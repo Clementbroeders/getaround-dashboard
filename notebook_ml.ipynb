{
 "cells": [
  {
   "cell_type": "code",
   "execution_count": 1,
   "metadata": {},
   "outputs": [],
   "source": [
    "import pandas as pd\n",
    "import numpy as np\n",
    "from sklearn.model_selection import train_test_split\n",
    "from sklearn.compose import ColumnTransformer\n",
    "from sklearn.preprocessing import StandardScaler, OneHotEncoder\n",
    "from sklearn.metrics import mean_squared_error\n",
    "from sklearn.linear_model import LinearRegression\n",
    "import joblib"
   ]
  },
  {
   "cell_type": "code",
   "execution_count": 2,
   "metadata": {},
   "outputs": [
    {
     "ename": "TypeError",
     "evalue": "OneHotEncoder.__init__() got an unexpected keyword argument 'sparse'",
     "output_type": "error",
     "traceback": [
      "\u001b[1;31m---------------------------------------------------------------------------\u001b[0m",
      "\u001b[1;31mTypeError\u001b[0m                                 Traceback (most recent call last)",
      "Cell \u001b[1;32mIn[2], line 18\u001b[0m\n\u001b[0;32m     12\u001b[0m numeric_features \u001b[38;5;241m=\u001b[39m [\u001b[38;5;124m\"\u001b[39m\u001b[38;5;124mmileage\u001b[39m\u001b[38;5;124m\"\u001b[39m, \u001b[38;5;124m\"\u001b[39m\u001b[38;5;124mengine_power\u001b[39m\u001b[38;5;124m\"\u001b[39m]\n\u001b[0;32m     13\u001b[0m categorical_features \u001b[38;5;241m=\u001b[39m [\u001b[38;5;124m\"\u001b[39m\u001b[38;5;124mmodel_key\u001b[39m\u001b[38;5;124m\"\u001b[39m, \u001b[38;5;124m\"\u001b[39m\u001b[38;5;124mfuel\u001b[39m\u001b[38;5;124m\"\u001b[39m, \u001b[38;5;124m\"\u001b[39m\u001b[38;5;124mpaint_color\u001b[39m\u001b[38;5;124m\"\u001b[39m, \u001b[38;5;124m\"\u001b[39m\u001b[38;5;124mcar_type\u001b[39m\u001b[38;5;124m\"\u001b[39m] \u001b[38;5;241m+\u001b[39m bool_columns\n\u001b[0;32m     15\u001b[0m preprocessor \u001b[38;5;241m=\u001b[39m ColumnTransformer(\n\u001b[0;32m     16\u001b[0m     transformers\u001b[38;5;241m=\u001b[39m[\n\u001b[0;32m     17\u001b[0m         (\u001b[38;5;124m\"\u001b[39m\u001b[38;5;124mnum\u001b[39m\u001b[38;5;124m\"\u001b[39m, StandardScaler(), numeric_features),\n\u001b[1;32m---> 18\u001b[0m         (\u001b[38;5;124m\"\u001b[39m\u001b[38;5;124mcat\u001b[39m\u001b[38;5;124m\"\u001b[39m, OneHotEncoder(handle_unknown \u001b[38;5;241m=\u001b[39m \u001b[38;5;124m\"\u001b[39m\u001b[38;5;124mignore\u001b[39m\u001b[38;5;124m\"\u001b[39m, sparse \u001b[38;5;241m=\u001b[39m \u001b[38;5;28;01mFalse\u001b[39;00m, drop \u001b[38;5;241m=\u001b[39m \u001b[38;5;124m'\u001b[39m\u001b[38;5;124mfirst\u001b[39m\u001b[38;5;124m'\u001b[39m), categorical_features)\n\u001b[0;32m     19\u001b[0m     ])\n\u001b[0;32m     21\u001b[0m X_train, X_test, y_train, y_test \u001b[38;5;241m=\u001b[39m train_test_split(X, y, test_size\u001b[38;5;241m=\u001b[39m\u001b[38;5;241m0.3\u001b[39m, random_state\u001b[38;5;241m=\u001b[39m\u001b[38;5;241m0\u001b[39m)\n\u001b[0;32m     22\u001b[0m X_train \u001b[38;5;241m=\u001b[39m preprocessor\u001b[38;5;241m.\u001b[39mfit_transform(X_train)\n",
      "\u001b[1;31mTypeError\u001b[0m: OneHotEncoder.__init__() got an unexpected keyword argument 'sparse'"
     ]
    }
   ],
   "source": [
    "# VERSION AVEC TRAIN TEST SPLIT\n",
    "\n",
    "pricing = pd.read_csv('src/get_around_pricing_project.csv').iloc[:,1:]\n",
    "\n",
    "X = pricing.drop(\"rental_price_per_day\", axis=1)\n",
    "y = pricing[\"rental_price_per_day\"]\n",
    "\n",
    "bool_columns = ['private_parking_available', 'has_gps', 'has_air_conditioning', 'automatic_car', 'has_getaround_connect', 'has_speed_regulator', 'winter_tires']\n",
    "for col in bool_columns:\n",
    "    X[col] = X[col].astype(int)\n",
    "\n",
    "numeric_features = [\"mileage\", \"engine_power\"]\n",
    "categorical_features = [\"model_key\", \"fuel\", \"paint_color\", \"car_type\"] + bool_columns\n",
    "\n",
    "preprocessor = ColumnTransformer(\n",
    "    transformers=[\n",
    "        (\"num\", StandardScaler(), numeric_features),\n",
    "        (\"cat\", OneHotEncoder(handle_unknown = \"ignore\", drop = 'first'), categorical_features)\n",
    "    ])\n",
    "\n",
    "X_train, X_test, y_train, y_test = train_test_split(X, y, test_size=0.3, random_state=0)\n",
    "X_train = preprocessor.fit_transform(X_train)\n",
    "X_test = preprocessor.transform(X_test)\n",
    "\n",
    "model = LinearRegression()\n",
    "model.fit(X_train, y_train)\n",
    "y_pred_model = model.predict(X_test)\n",
    "\n",
    "print('Score R2 training set :', model.score(X_train, y_train))\n",
    "print('Score R2 test set :', model.score(X_test, y_test))\n",
    "print()\n",
    "mse_regressor = mean_squared_error(y_test, y_pred_model)\n",
    "print('MSE test :', mse_regressor)\n",
    "print('RMSE test :', np.sqrt(mse_regressor))\n",
    "\n",
    "# RANDOMFOREST (OVERFITTING)\n",
    "# param_grid = {\n",
    "#     'n_estimators': [50, 100, 150],\n",
    "#     'max_depth': [None, 10, 20],\n",
    "#     'min_samples_leaf': [1, 5, 10],\n",
    "#     'min_samples_split': [2, 5, 10]\n",
    "# }\n",
    "# scorer = make_scorer(r2_score)\n",
    "# model = GridSearchCV(estimator=RandomForestRegressor(random_state=0), param_grid=param_grid, scoring=scorer, cv=5, verbose=1, n_jobs=-1)\n",
    "# model.fit(X_train, y_train)\n",
    "# best_params = model.best_params_\n",
    "# print('Best Hyperparameters:', best_params)\n",
    "# best_model = grid_search.best_estimator_\n",
    "# y_pred_best = best_model.predict(X_test)\n",
    "# r2_best_model = r2_score(y_test, y_pred_best)\n",
    "# print('R-squared with Best Model:', r2_best_model)"
   ]
  },
  {
   "cell_type": "code",
   "execution_count": 7,
   "metadata": {},
   "outputs": [
    {
     "name": "stdout",
     "output_type": "stream",
     "text": [
      "Score R2 training set : 0.7119525296878819\n"
     ]
    }
   ],
   "source": [
    "# VERSION GLOBALE POUR SCRIPT\n",
    "\n",
    "pricing = pd.read_csv('src/get_around_pricing_project.csv').iloc[:,1:]\n",
    "\n",
    "X = pricing.drop(\"rental_price_per_day\", axis=1)\n",
    "y = pricing[\"rental_price_per_day\"]\n",
    "\n",
    "bool_columns = ['private_parking_available', 'has_gps', 'has_air_conditioning', 'automatic_car', 'has_getaround_connect', 'has_speed_regulator', 'winter_tires']\n",
    "for col in bool_columns:\n",
    "    X[col] = X[col].astype(int)\n",
    "\n",
    "numeric_features = [\"mileage\", \"engine_power\"]\n",
    "categorical_features = [\"model_key\", \"fuel\", \"paint_color\", \"car_type\"] + bool_columns\n",
    "\n",
    "preprocessor = ColumnTransformer(\n",
    "    transformers=[\n",
    "        (\"num\", StandardScaler(), numeric_features),\n",
    "        (\"cat\", OneHotEncoder(handle_unknown = \"ignore\", drop = \"first\"), categorical_features)\n",
    "    ])\n",
    "\n",
    "X_train = preprocessor.fit_transform(X)\n",
    "\n",
    "joblib.dump(preprocessor, 'src/preprocessor.pkl')\n",
    "joblib.dump(preprocessor, 'fastapi/src/preprocessor.pkl')\n",
    "\n",
    "model = LinearRegression()\n",
    "\n",
    "model.fit(X_train, y)\n",
    "\n",
    "joblib.dump(model, 'src/model.pkl')\n",
    "joblib.dump(model, 'fastapi/src/model.pkl')\n",
    "\n",
    "print('Score R2 training set :', model.score(X_train, y))"
   ]
  },
  {
   "cell_type": "code",
   "execution_count": 8,
   "metadata": {},
   "outputs": [
    {
     "data": {
      "text/plain": [
       "array([140.31218846])"
      ]
     },
     "execution_count": 8,
     "metadata": {},
     "output_type": "execute_result"
    }
   ],
   "source": [
    "list = ['Alfa Romeo', 0, 66, 'diesel', 'beige', 'convertible', 1, 1, 1, 1, 1, 1, 1]\n",
    "\n",
    "data = pd.DataFrame([list], columns=pricing.drop(\"rental_price_per_day\", axis=1).columns)\n",
    "\n",
    "loaded_preprocessor = joblib.load('src/preprocessor.pkl')\n",
    "data = loaded_preprocessor.transform(data)\n",
    "\n",
    "loaded_model = joblib.load('src/model.pkl')\n",
    "prediction = loaded_model.predict(data)\n",
    "\n",
    "prediction"
   ]
  },
  {
   "cell_type": "code",
   "execution_count": 18,
   "metadata": {},
   "outputs": [
    {
     "name": "stdout",
     "output_type": "stream",
     "text": [
      "140.31218845857995\n"
     ]
    }
   ],
   "source": [
    "import requests\n",
    "api_url = \"http://localhost:4000/predict\"\n",
    "data = {\"filters_list\": list}\n",
    "response = requests.post(api_url, json=data)\n",
    "\n",
    "if response.status_code == 200:\n",
    "    result = response.json()\n",
    "    print(result['prediction'])\n",
    "else:\n",
    "    print(\"Erreur lors de la requête à l'API.\")"
   ]
  },
  {
   "cell_type": "code",
   "execution_count": 17,
   "metadata": {},
   "outputs": [
    {
     "data": {
      "text/plain": [
       "['Alfa Romeo', 0, 66, 'diesel', 'beige', 'convertible', 1, 1, 1, 1, 1, 1, 1]"
      ]
     },
     "execution_count": 17,
     "metadata": {},
     "output_type": "execute_result"
    }
   ],
   "source": [
    "list"
   ]
  }
 ],
 "metadata": {
  "kernelspec": {
   "display_name": "base",
   "language": "python",
   "name": "python3"
  },
  "language_info": {
   "codemirror_mode": {
    "name": "ipython",
    "version": 3
   },
   "file_extension": ".py",
   "mimetype": "text/x-python",
   "name": "python",
   "nbconvert_exporter": "python",
   "pygments_lexer": "ipython3",
   "version": "3.11.5"
  }
 },
 "nbformat": 4,
 "nbformat_minor": 2
}
