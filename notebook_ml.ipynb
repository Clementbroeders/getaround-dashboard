{
 "cells": [
  {
   "cell_type": "code",
   "execution_count": 2,
   "metadata": {},
   "outputs": [],
   "source": [
    "import pandas as pd\n",
    "import joblib\n",
    "import requests"
   ]
  },
  {
   "cell_type": "code",
   "execution_count": 4,
   "metadata": {},
   "outputs": [
    {
     "data": {
      "text/plain": [
       "array([140.31218846])"
      ]
     },
     "execution_count": 4,
     "metadata": {},
     "output_type": "execute_result"
    }
   ],
   "source": [
    "# Charger le modèle et le préprocesseur + prédiction\n",
    "pricing = pd.read_csv('src/get_around_pricing_project.csv').iloc[:,1:]\n",
    "\n",
    "list = ['Alfa Romeo', 0, 66, 'diesel', 'beige', 'convertible', 1, 1, 1, 1, 1, 1, 1]\n",
    "\n",
    "data = pd.DataFrame([list], columns=pricing.drop(\"rental_price_per_day\", axis=1).columns)\n",
    "\n",
    "loaded_preprocessor = joblib.load('src/preprocessor.pkl')\n",
    "data = loaded_preprocessor.transform(data)\n",
    "\n",
    "loaded_model = joblib.load('src/model.pkl')\n",
    "prediction = loaded_model.predict(data)\n",
    "\n",
    "prediction"
   ]
  },
  {
   "cell_type": "code",
   "execution_count": 5,
   "metadata": {},
   "outputs": [
    {
     "name": "stdout",
     "output_type": "stream",
     "text": [
      "140.31218845857995\n"
     ]
    }
   ],
   "source": [
    "# Prédiction via API\n",
    "\n",
    "list = ['Alfa Romeo', 0, 66, 'diesel', 'beige', 'convertible', 1, 1, 1, 1, 1, 1, 1]\n",
    "# api_url = \"http://localhost:4000/predict\"\n",
    "api_url = \"https://getaround-fastapi1-f159113e9f42.herokuapp.com/predict\"\n",
    "data = {\"filters_list\": list}\n",
    "response = requests.post(api_url, json=data)\n",
    "\n",
    "if response.status_code == 200:\n",
    "    result = response.json()\n",
    "    print(result['prediction'])\n",
    "else:\n",
    "    print(\"Erreur lors de la requête à l'API.\")"
   ]
  }
 ],
 "metadata": {
  "kernelspec": {
   "display_name": "base",
   "language": "python",
   "name": "python3"
  },
  "language_info": {
   "codemirror_mode": {
    "name": "ipython",
    "version": 3
   },
   "file_extension": ".py",
   "mimetype": "text/x-python",
   "name": "python",
   "nbconvert_exporter": "python",
   "pygments_lexer": "ipython3",
   "version": "3.11.7"
  }
 },
 "nbformat": 4,
 "nbformat_minor": 2
}
